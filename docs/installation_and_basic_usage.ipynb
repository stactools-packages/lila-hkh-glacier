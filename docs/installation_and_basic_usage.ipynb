{
 "cells": [
  {
   "cell_type": "markdown",
   "id": "5c18bc99-c406-4e17-8036-810944f9b453",
   "metadata": {},
   "source": [
    "# Tutorial: Working with this stactools subpackage\n",
    "\n",
    "Stactools ([docs](https://stactools.readthedocs.io/en/latest/), [source](https://github.com/stac-utils/stactools)) is a command line tool and library for working with [STAC](https://stacspec.org/), based on [PySTAC](https://github.com/stac-utils/pystac). [Stactools packages](https://github.com/stactools-packages) are add-ons for stactools that provide STAC functionality for specific datasets, such as [Sentinel 2](https://github.com/stactools-packages/sentinel2) and [Landsat](https://github.com/stactools-packages/landsat). \n",
    "\n",
    "Stactools and its packages can be accessed from the CLI or from within normal Python code. This notebook provides examples of both."
   ]
  },
  {
   "cell_type": "markdown",
   "id": "67de3bce-5a81-4a41-a04e-af05c979d6f8",
   "metadata": {},
   "source": [
    "## 1. Installing stactools\n",
    "\n",
    "To use a package, first install `stactools` then the package. `stactools` can be installed with `pip`."
   ]
  },
  {
   "cell_type": "code",
   "execution_count": null,
   "id": "0f81ebc5-62ce-4884-b7ee-7533661787a2",
   "metadata": {},
   "outputs": [],
   "source": [
    "%pip install stactools"
   ]
  },
  {
   "cell_type": "markdown",
   "id": "0959bd18-aa99-4318-a7c6-e0f39f8ba081",
   "metadata": {},
   "source": [
    "Check that the `stac` CLI tool is installed"
   ]
  },
  {
   "cell_type": "code",
   "execution_count": null,
   "id": "3d574e02-274a-4aba-b464-11e71b5b9036",
   "metadata": {},
   "outputs": [],
   "source": [
    "!stac"
   ]
  },
  {
   "cell_type": "markdown",
   "id": "b99ce54c-0c58-45d0-8528-fad272b4210c",
   "metadata": {},
   "source": [
    "Notice the Commands available. Depending on your current environment, you may already have one or more dataset commands available (e.g. `lilahkhglacier`). In the next step we will demonstrate how to add a dataset command."
   ]
  },
  {
   "cell_type": "markdown",
   "id": "e8266d00-0cf2-46b0-af73-9e214dca1870",
   "metadata": {},
   "source": [
    "## 2. Installing a stactools package"
   ]
  },
  {
   "cell_type": "markdown",
   "id": "2967e333-ef58-4a83-9de3-2ddc3826f546",
   "metadata": {},
   "source": [
    "Here we'll use the subpackage that this notebook resides within, but feel free to change the `PACKAGE` variable to any one of the subpackage repo names in the [stactools-subpackages](https://github.com/stactools-packages). Other examples include `sentinel2`, `planet`, and `landsat`."
   ]
  },
  {
   "cell_type": "code",
   "execution_count": null,
   "id": "ca0fed48-143b-46b0-a32e-cf7f2d7bdda8",
   "metadata": {},
   "outputs": [],
   "source": [
    "PACKAGE = \"lila-hkh-glacier\""
   ]
  },
  {
   "cell_type": "code",
   "execution_count": null,
   "id": "715fca0f-aaab-4265-a5bb-1e005ce8d1cb",
   "metadata": {},
   "outputs": [],
   "source": [
    "%pip install stactools-{PACKAGE}"
   ]
  },
  {
   "cell_type": "markdown",
   "id": "00ffb84d-0412-4e77-bf6b-5dbb05fb2843",
   "metadata": {},
   "source": [
    "Notice the addition of the subpackage command in stactools now."
   ]
  },
  {
   "cell_type": "code",
   "execution_count": null,
   "id": "e6b72b9d-340b-4101-b7f3-01d487727da5",
   "metadata": {},
   "outputs": [],
   "source": [
    "!stac"
   ]
  },
  {
   "cell_type": "markdown",
   "id": "4b050477-32f7-4c5b-9402-4bd0d7f5aaa1",
   "metadata": {},
   "source": [
    "## 3. Using the stactools subpackage"
   ]
  },
  {
   "cell_type": "markdown",
   "id": "383d21cd-a4c2-41d4-987a-72791ae4e46e",
   "metadata": {},
   "source": [
    "You can now explore the STAC package commands to ingest and describe the data"
   ]
  },
  {
   "cell_type": "code",
   "execution_count": null,
   "id": "46e87d6e-f843-4179-ae4b-1495ddd307f0",
   "metadata": {},
   "outputs": [],
   "source": [
    "!stac lilahkhglacier --help"
   ]
  },
  {
   "cell_type": "markdown",
   "id": "7afb3476-8dff-4b3f-a2f0-707779b8517e",
   "metadata": {},
   "source": [
    "The `lilahkhglacier` command contains:\n",
    "- `create-cog` command which will convert a GeoTiff to Cloud-optimized GeoTiff format\n",
    "- `lilahkhglacier-fused` subcommand\n",
    "- `lilahkhglacier-slice` subcommand\n",
    "\n",
    "The LILA HKH Glacier dataset contains two main types of raster data:\n",
    "- `fused`: images we refer to as fused are large SRTM and Landsat 7 images, each with 15 bands in .tif format\n",
    "- `slice`: images we refer to as slices are 512 x 512 pixel tiles derived from fused images, each with 15 bands in .npy format, and an associated 2-band mask, also in .npy format."
   ]
  },
  {
   "cell_type": "code",
   "execution_count": null,
   "id": "fe579e16-0a01-4be1-b01a-377e25372aed",
   "metadata": {
    "scrolled": false
   },
   "outputs": [],
   "source": [
    "!stac lilahkhglacier lilahkhglacier-fused --help\n",
    "!echo \"========\"\n",
    "!stac lilahkhglacier lilahkhglacier-slice --help"
   ]
  },
  {
   "cell_type": "markdown",
   "id": "ade93439",
   "metadata": {},
   "source": [
    "And more specific help with an individual command."
   ]
  },
  {
   "cell_type": "code",
   "execution_count": null,
   "id": "fe579e16-0a01-4be1-b01a-377e25372aed",
   "metadata": {
    "scrolled": true
   },
   "outputs": [],
   "source": [
    "!stac lilahkhglacier lilahkhglacier-slice create-items --help"
   ]
  },
  {
   "cell_type": "markdown",
   "id": "c4794019-70a4-4831-a3ca-695e09e6296f",
   "metadata": {},
   "source": [
    "So far we've used Jupyter Notebooks' IPython [line magic](https://ipython.readthedocs.io/en/stable/interactive/magics.html) to work with stactools packages on the command line, but it's also possible to use them within Python scripts."
   ]
  },
  {
   "cell_type": "code",
   "execution_count": null,
   "id": "404ec845-72d2-42d2-a20a-db1f16331869",
   "metadata": {},
   "outputs": [],
   "source": [
    "from stactools.lila_hkh_glacier import stac, cog, utils\n",
    "\n",
    "tif_path = \"../tests/data-files/raster_data/LE07_134040_20070922_clip.tif\"\n",
    "output_path = \"LE07_134040_20070922_cog.tif\"\n",
    "\n",
    "# convert a geotiff to cloud-optimized geotiff\n",
    "cog.create_cog(tif_path, output_path)"
   ]
  },
  {
   "cell_type": "code",
   "execution_count": null,
   "id": "34a526e9",
   "metadata": {},
   "outputs": [],
   "source": [
    "output_dir = \".\"\n",
    "fuseddir = \"../tests/data-files/raster_data/\"\n",
    "\n",
    "# create a STAC collection that reflects the contents of a directory of fused images\n",
    "stac.create_fused_collection(output_dir, fuseddir)"
   ]
  },
  {
   "cell_type": "code",
   "execution_count": null,
   "id": "a716f71f",
   "metadata": {},
   "outputs": [],
   "source": [
    "# create a STAC item for the COG we created above\n",
    "stac.create_fused_item(output_path, output_dir)"
   ]
  },
  {
   "cell_type": "code",
   "execution_count": null,
   "id": "117cb6aa",
   "metadata": {},
   "outputs": [],
   "source": [
    "import json\n",
    "\n",
    "metadata_path = \"../tests/data-files/slices.geojson\"\n",
    "slicedir = \"../tests/data-files/slices\"\n",
    "\n",
    "with open(metadata_path, \"r\") as f:\n",
    "    metadata_dict = json.load(f)\n",
    "    # update paths to reflect the current location of the files\n",
    "    metadata_dict = utils.update_metadata_paths(metadata_dict, slicedir)\n",
    "\n",
    "# create a STAC collection that reflects the features within a metadata file\n",
    "stac.create_slice_collection(metadata_dict, output_dir)"
   ]
  },
  {
   "cell_type": "code",
   "execution_count": null,
   "id": "aad6f9ef",
   "metadata": {},
   "outputs": [],
   "source": [
    "feature = metadata_dict[\"features\"][0]\n",
    "epsg_code = utils.get_epsg(metadata_dict)\n",
    "\n",
    "# create a STAC item for one of the features in the metadata file\n",
    "slice_item = stac.create_slice_item(feature, output_dir, epsg_code)\n",
    "slice_item"
   ]
  },
  {
   "cell_type": "code",
   "execution_count": null,
   "id": "0ea28faf",
   "metadata": {},
   "outputs": [],
   "source": [
    "import numpy as np\n",
    "\n",
    "# load the contents of the assets in the item\n",
    "raster_content = np.load(slice_item.assets[\"raster\"].href)\n",
    "raster_labels_content = np.load(slice_item.assets[\"raster_labels\"].href)\n",
    "\n",
    "raster_content.shape, raster_labels_content.shape"
   ]
  },
  {
   "cell_type": "markdown",
   "id": "5023825b",
   "metadata": {},
   "source": [
    "At this point, `raster_content` and `raster_labels_content` are image arrays, which you could view through a plotting dependency like matplotlib."
   ]
  },
  {
   "cell_type": "code",
   "execution_count": null,
   "id": "780b2fc0",
   "metadata": {},
   "outputs": [],
   "source": []
  }
 ],
 "metadata": {
  "kernelspec": {
   "display_name": "Python 3 (ipykernel)",
   "language": "python",
   "name": "python3"
  },
  "language_info": {
   "codemirror_mode": {
    "name": "ipython",
    "version": 3
   },
   "file_extension": ".py",
   "mimetype": "text/x-python",
   "name": "python",
   "nbconvert_exporter": "python",
   "pygments_lexer": "ipython3",
   "version": "3.9.6"
  }
 },
 "nbformat": 4,
 "nbformat_minor": 5
}
